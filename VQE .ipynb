{
 "cells": [
  {
   "cell_type": "code",
   "execution_count": null,
   "id": "2d92cdd7-fc80-420c-8a4f-0324ecefc134",
   "metadata": {},
   "outputs": [],
   "source": [
    "''' Algoritmo realizado para a disciplina de Tecnologia e aplicação de informações quânticas UNILA 2024 GSP\n",
    "\n",
    "f(x0, x1, x2) = 2.x0 -4.x0.x1 + 3.x1.x2\n",
    "xi = (1-zi)/2 ==> troca de variavel de QUBO para Ising\n",
    "\n",
    " g(z0, z1, z2) = 3/4 + z1/4 -3.z2/4 - z0.z1 + 3.z1.z2/4\n",
    "\n",
    " 1 1 0 QUBO ==> -1 -1 1  Ising '''"
   ]
  },
  {
   "cell_type": "code",
   "execution_count": 39,
   "id": "d31cc2a9-d2d1-41cb-9e16-1bbc1ccafd51",
   "metadata": {},
   "outputs": [],
   "source": [
    "import pennylane as qml\n"
   ]
  },
  {
   "cell_type": "code",
   "execution_count": 40,
   "id": "a69f24d2-7dbf-43b7-8ce7-ea2d41caa25b",
   "metadata": {},
   "outputs": [],
   "source": [
    "variaveis = 3"
   ]
  },
  {
   "cell_type": "code",
   "execution_count": 25,
   "id": "baec0156-eb86-4430-8d57-1e933beadb7e",
   "metadata": {},
   "outputs": [],
   "source": [
    "dev = qml.device(\"default.qubit\", wires = variaveis, shots = 1000) # chama a máquina "
   ]
  },
  {
   "cell_type": "code",
   "execution_count": 26,
   "id": "4ce7e4b7-3a74-4095-860d-13254a46bf87",
   "metadata": {},
   "outputs": [],
   "source": [
    "#função para realizar a rotação em x para todos os segmentos\n",
    "def phi(w):\n",
    "    qml.RX(w[0], wires = 0)\n",
    "    qml.RX(w[1], wires = 1)\n",
    "    qml.RX(w[2], wires = 2)"
   ]
  },
  {
   "cell_type": "code",
   "execution_count": 27,
   "id": "9b163c0e-cd98-4429-ac21-9de0f0116418",
   "metadata": {},
   "outputs": [],
   "source": [
    "# Funcoes circ ==> retornam o valor esperado de um termo do hamiltoniano (cada aplicacao das matrizes de pauli geram um novo termo)"
   ]
  },
  {
   "cell_type": "code",
   "execution_count": 28,
   "id": "6f2c4422-e8c1-4a3d-b4b5-c89acad56985",
   "metadata": {},
   "outputs": [],
   "source": [
    "@qml.qnode(dev)\n",
    "def circ1(w):\n",
    "    phi(w)\n",
    "    return qml.expval(qml.Identity(wires = 0) @ qml.Identity(wires = 1) @ qml.Identity(wires = 2))"
   ]
  },
  {
   "cell_type": "code",
   "execution_count": 29,
   "id": "b1d3804c-5466-4c65-8453-4e765a6f0f37",
   "metadata": {},
   "outputs": [],
   "source": [
    "@qml.qnode(dev)\n",
    "def circ2(w):\n",
    "    phi(w)\n",
    "    return qml.expval(qml.Identity(wires = 0) @ qml.PauliZ(wires = 1) @ qml.Identity(wires = 2))"
   ]
  },
  {
   "cell_type": "code",
   "execution_count": 30,
   "id": "caac2fa6-3703-435b-a3a1-67eed7f3d271",
   "metadata": {},
   "outputs": [],
   "source": [
    "@qml.qnode(dev)\n",
    "def circ3(w):\n",
    "    phi(w)\n",
    "    return qml.expval(qml.Identity(wires = 0) @ qml.Identity(wires = 1) @ qml.PauliZ(wires = 2))\n",
    "    "
   ]
  },
  {
   "cell_type": "code",
   "execution_count": 31,
   "id": "7e0f5e34-7f9b-4940-9fa8-46ffc38e47e9",
   "metadata": {},
   "outputs": [],
   "source": [
    "@qml.qnode(dev)\n",
    "def circ4(w):\n",
    "    phi(w)\n",
    "    return qml.expval(qml.PauliZ(wires = 0) @ qml.PauliZ(wires = 1) @ qml.Identity(wires = 2))\n"
   ]
  },
  {
   "cell_type": "code",
   "execution_count": 32,
   "id": "361476ee-149f-45dd-8459-bf055b45b771",
   "metadata": {},
   "outputs": [],
   "source": [
    "@qml.qnode(dev)\n",
    "def circ5(w):\n",
    "    phi(w)\n",
    "    return qml.expval(qml.Identity(wires = 0) @ qml.PauliZ(wires = 1) @ qml.PauliZ(wires = 2))\n"
   ]
  },
  {
   "cell_type": "code",
   "execution_count": 33,
   "id": "3113f292-922c-49fa-8f67-a4beb1c35d03",
   "metadata": {},
   "outputs": [],
   "source": [
    "def valor(w):\n",
    "    return 3*circ1(w)/4 + circ2(w)/4 - 3*circ3(w)/4 - circ4(w) + 3*circ5(w)/4\n",
    "# devolve o valor da funcao aplicada com os termos em Ising ==> g(z0,z1,z2)"
   ]
  },
  {
   "cell_type": "code",
   "execution_count": 34,
   "id": "824b2b3f-2ed3-4cf4-83f9-f88988dd7078",
   "metadata": {},
   "outputs": [],
   "source": [
    "w = qml.numpy.random.rand(3) * 2*3.14 #cria um valor aleatorio"
   ]
  },
  {
   "cell_type": "code",
   "execution_count": 35,
   "id": "04e0887b-d4ce-46c5-9660-bdfabf693070",
   "metadata": {},
   "outputs": [],
   "source": [
    "gradient_fn_w = qml.grad(valor, argnum=0) #funcao de minimizacao\n"
   ]
  },
  {
   "cell_type": "code",
   "execution_count": 37,
   "id": "a26530f0-0d54-459f-b713-910ff245e57d",
   "metadata": {},
   "outputs": [
    {
     "name": "stdout",
     "output_type": "stream",
     "text": [
      "rep 0 perda -1.9669999999999999\n",
      "rep 50 perda -1.9805\n",
      "rep 100 perda -1.992\n",
      "rep 150 perda -1.994\n",
      "rep 200 perda -2.0\n",
      "rep 250 perda -2.0\n",
      "rep 300 perda -2.0\n",
      "rep 350 perda -2.0\n",
      "rep 400 perda -2.0\n",
      "rep 450 perda -2.0\n",
      "rep 500 perda -2.0\n"
     ]
    },
    {
     "data": {
      "text/plain": [
       "[array(-1, dtype=int64), array(-1, dtype=int64), array(1, dtype=int64)]"
      ]
     },
     "execution_count": 37,
     "metadata": {},
     "output_type": "execute_result"
    }
   ],
   "source": [
    "#for para aplicar a minimizacao varias vezes\n",
    "lr = 0.005\n",
    "for rep in range(501):\n",
    "    w = w - lr*gradient_fn_w(w)\n",
    "    if rep % 50 == 0:\n",
    "        print(\"rep\", rep, \"perda\", valor(w))\n",
    "\n",
    "@qml.qnode(qml.device(\"default.qubit\", wires = variaveis, shots = 1))\n",
    "# funcao para dar a solucao final de otimizacao\n",
    "def solucao(w):   \n",
    "    phi(w)\n",
    "    return [qml.sample(qml.PauliZ(i)) for i in range(3)]\n",
    "\n",
    "solucao(w)"
   ]
  },
  {
   "cell_type": "code",
   "execution_count": null,
   "id": "3d68b37e-7661-4452-a7c3-c22057d585ea",
   "metadata": {},
   "outputs": [],
   "source": []
  },
  {
   "cell_type": "code",
   "execution_count": null,
   "id": "e11c4b64-b542-4170-af3e-4236da9ebe1e",
   "metadata": {},
   "outputs": [],
   "source": []
  }
 ],
 "metadata": {
  "kernelspec": {
   "display_name": "Python 3 (ipykernel)",
   "language": "python",
   "name": "python3"
  },
  "language_info": {
   "codemirror_mode": {
    "name": "ipython",
    "version": 3
   },
   "file_extension": ".py",
   "mimetype": "text/x-python",
   "name": "python",
   "nbconvert_exporter": "python",
   "pygments_lexer": "ipython3",
   "version": "3.11.9"
  }
 },
 "nbformat": 4,
 "nbformat_minor": 5
}
