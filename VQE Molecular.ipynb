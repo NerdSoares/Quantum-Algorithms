{
 "cells": [
  {
   "cell_type": "code",
   "execution_count": 40,
   "id": "a2245ad2-2839-4151-a192-a313fede97ab",
   "metadata": {},
   "outputs": [],
   "source": [
    "''' Algoritmo realizado para a disciplica de Tecnologia e aplicação de informações quânticas UNILA 2024 GSP'''\n",
    "#importar bibliotecas\n",
    "import pennylane as qml \n",
    "from pennylane import numpy as np\n",
    "from pennylane import qchem"
   ]
  },
  {
   "cell_type": "code",
   "execution_count": 41,
   "id": "80485f4a-dfca-454b-ba82-d9b2f982bbee",
   "metadata": {},
   "outputs": [],
   "source": [
    "#definição dos parametros da molécula e atomos \n",
    "simbolos = [\"H\", \"H\",\"H\"] \n",
    "coordenadas = np.array([[0.0102,0.0442,0.0], [0.9867,1.6303, 0.0], [1.8720,-0.0085,0.0]])\n"
   ]
  },
  {
   "cell_type": "code",
   "execution_count": 42,
   "id": "5270262f-9d49-4287-a6f5-d06f6b532dbf",
   "metadata": {},
   "outputs": [],
   "source": [
    "#importação do Hamiltoniano\n",
    "hamiltonian, qubits = qchem.molecular_hamiltonian(simbolos,coordenadas, charge = 1) "
   ]
  },
  {
   "cell_type": "code",
   "execution_count": 43,
   "id": "ec131348-1dec-4918-b9a8-c206bbedcac6",
   "metadata": {},
   "outputs": [
    {
     "name": "stdout",
     "output_type": "stream",
     "text": [
      "6\n"
     ]
    }
   ],
   "source": [
    "print (qubits) "
   ]
  },
  {
   "cell_type": "code",
   "execution_count": 44,
   "id": "26aaeed8-dd5c-437c-bd41-3abfe988630a",
   "metadata": {},
   "outputs": [],
   "source": [
    "hf = qchem.hf_state(electrons = 2, orbitals = 6) \n",
    "# HF (Hartree-Fock aproximação)"
   ]
  },
  {
   "cell_type": "code",
   "execution_count": 45,
   "id": "c8b6d6cd-d0de-43c0-80a9-59be731165b8",
   "metadata": {},
   "outputs": [
    {
     "name": "stdout",
     "output_type": "stream",
     "text": [
      "[1 1 0 0 0 0]\n"
     ]
    }
   ],
   "source": [
    "print (hf) "
   ]
  },
  {
   "cell_type": "code",
   "execution_count": 46,
   "id": "2a1bb90d-a283-4175-9c5a-7161dec958dd",
   "metadata": {},
   "outputs": [],
   "source": [
    "#numeros de fios/wires\n",
    "num_wires = qubits\n",
    "dev = qml.device(\"default.qubit\", wires=num_wires)"
   ]
  },
  {
   "cell_type": "code",
   "execution_count": 47,
   "id": "1ee67a91-95e9-4714-adf1-4fdd8181c66c",
   "metadata": {},
   "outputs": [],
   "source": [
    "#funcao de energia media experada\n",
    "@qml.qnode(dev) \n",
    "def exp_energy(state): \n",
    "    qml.BasisState(np.array(state), wires = range(num_wires)) \n",
    "    return qml.expval(hamiltonian)\n",
    "    "
   ]
  },
  {
   "cell_type": "code",
   "execution_count": 48,
   "id": "92df989b-77be-4695-884b-2f556f23964f",
   "metadata": {},
   "outputs": [
    {
     "data": {
      "text/plain": [
       "tensor(-1.24655016, requires_grad=True)"
      ]
     },
     "execution_count": 48,
     "metadata": {},
     "output_type": "execute_result"
    }
   ],
   "source": [
    "exp_energy(hf)"
   ]
  },
  {
   "cell_type": "code",
   "execution_count": 49,
   "id": "9b964d78-a540-4d8b-93a4-d8bae3295d97",
   "metadata": {},
   "outputs": [],
   "source": [
    "#criação dos ansatz\n",
    "def ansatz(params):\n",
    "    qml.BasisState(hf, wires=range(num_wires))\n",
    "    qml.DoubleExcitation(params[0],wires = [0,1,2,3])\n",
    "    qml.DoubleExcitation(params[1],wires=[0,1,4,5])"
   ]
  },
  {
   "cell_type": "code",
   "execution_count": 50,
   "id": "de6b2063-fbff-4597-83e4-ac444fd4bf07",
   "metadata": {},
   "outputs": [],
   "source": [
    "#definição da função custo\n",
    "@qml.qnode(dev)\n",
    "def funcao_custo(params):\n",
    "    ansatz(params)\n",
    "    return qml.expval(hamiltonian) "
   ]
  },
  {
   "cell_type": "code",
   "execution_count": 51,
   "id": "314d4bc0-a7d4-49e8-80e9-000ec98cf9c7",
   "metadata": {},
   "outputs": [
    {
     "data": {
      "text/plain": [
       "tensor(-1.26796721, requires_grad=True)"
      ]
     },
     "execution_count": 51,
     "metadata": {},
     "output_type": "execute_result"
    }
   ],
   "source": [
    "funcao_custo ([0.1,0.1])"
   ]
  },
  {
   "cell_type": "code",
   "execution_count": 52,
   "id": "7649c9da-54e6-4a08-9efc-c8508c3423bd",
   "metadata": {},
   "outputs": [],
   "source": [
    "#funcao de otimização\n",
    "opt = qml.GradientDescentOptimizer(stepsize=0.4)\n",
    "theta = np.array([0.0,0.0], requires_grad=True) \n",
    "\n",
    "energia = [funcao_custo(theta)]\n",
    "angulo = [theta]\n",
    "max_interations = 20 \n"
   ]
  },
  {
   "cell_type": "code",
   "execution_count": 53,
   "id": "77f9ef99-e794-414a-88d8-533254b0e55d",
   "metadata": {},
   "outputs": [
    {
     "name": "stdout",
     "output_type": "stream",
     "text": [
      "Step = 0, Energia = -1.24655016 Ha\n",
      "Step = 2, Energia = -1.24655016 Ha\n",
      "Step = 4, Energia = -1.24655016 Ha\n",
      "Step = 6, Energia = -1.24655016 Ha\n",
      "Step = 8, Energia = -1.24655016 Ha\n",
      "Step = 10, Energia = -1.24655016 Ha\n",
      "Step = 12, Energia = -1.24655016 Ha\n",
      "Step = 14, Energia = -1.24655016 Ha\n",
      "Step = 16, Energia = -1.24655016 Ha\n",
      "Step = 18, Energia = -1.24655016 Ha\n"
     ]
    }
   ],
   "source": [
    "# for para a funcao de otimização\n",
    "for n in range (max_interations):\n",
    "    theta, prev_energia = opt.step_and_cost(funcao_custo,theta)\n",
    "    energy.append(funcao_custo(theta))\n",
    "    angulo.append(theta)\n",
    "\n",
    "    if n%2 == 0: \n",
    "        print (f\"Step = {n}, Energia = {energia[-1]:.8f} Ha\")\n",
    "        "
   ]
  },
  {
   "cell_type": "code",
   "execution_count": 54,
   "id": "18384889-aa81-446d-a928-8404ffabefc2",
   "metadata": {},
   "outputs": [],
   "source": [
    "#função que retorna o estado fundamental\n",
    "qml.qnode(dev)\n",
    "def ground_state(params):\n",
    "    ansatz(params)\n",
    "    return qml.state()"
   ]
  },
  {
   "cell_type": "code",
   "execution_count": 55,
   "id": "b7cb2d61-514c-48d0-b960-023383d9a6a2",
   "metadata": {},
   "outputs": [
    {
     "name": "stdout",
     "output_type": "stream",
     "text": [
      "{tensor(-1.24655016, requires_grad=True)}\n"
     ]
    }
   ],
   "source": [
    "print ({energia[-1]}) #print valor da energia"
   ]
  },
  {
   "cell_type": "code",
   "execution_count": 56,
   "id": "cf4d9c8b-b055-4e8a-9b1c-d9706c7d99ca",
   "metadata": {},
   "outputs": [
    {
     "name": "stdout",
     "output_type": "stream",
     "text": [
      "{tensor(0.19203468, requires_grad=True)}\n",
      "{tensor(0.19290335, requires_grad=True)}\n"
     ]
    }
   ],
   "source": [
    "print({theta[0]}) #print angulo\n",
    "print({theta[1]})"
   ]
  },
  {
   "cell_type": "code",
   "execution_count": 57,
   "id": "4e739bc5-9dbe-4411-8154-1af22fcb0c4a",
   "metadata": {},
   "outputs": [],
   "source": [
    "#ultimo estado fundamental calculado\n",
    "@qml.qnode(dev)\n",
    "def ground_state(params):\n",
    "    ansatz(params)\n",
    "    return qml.state()"
   ]
  },
  {
   "cell_type": "code",
   "execution_count": 58,
   "id": "aecd3566-dbb8-414b-9ff3-141d5b961886",
   "metadata": {},
   "outputs": [
    {
     "data": {
      "text/plain": [
       "tensor([ 0.        +0.j,  0.        +0.j,  0.        +0.j,\n",
       "        -0.09585862+0.j,  0.        +0.j,  0.        +0.j,\n",
       "         0.        +0.j,  0.        +0.j,  0.        +0.j,\n",
       "         0.        +0.j,  0.        +0.j,  0.        +0.j,\n",
       "        -0.09586987+0.j,  0.        +0.j,  0.        +0.j,\n",
       "         0.        +0.j,  0.        +0.j,  0.        +0.j,\n",
       "         0.        +0.j,  0.        +0.j,  0.        +0.j,\n",
       "         0.        +0.j,  0.        +0.j,  0.        +0.j,\n",
       "         0.        +0.j,  0.        +0.j,  0.        +0.j,\n",
       "         0.        +0.j,  0.        +0.j,  0.        +0.j,\n",
       "         0.        +0.j,  0.        +0.j,  0.        +0.j,\n",
       "         0.        +0.j,  0.        +0.j,  0.        +0.j,\n",
       "         0.        +0.j,  0.        +0.j,  0.        +0.j,\n",
       "         0.        +0.j,  0.        +0.j,  0.        +0.j,\n",
       "         0.        +0.j,  0.        +0.j,  0.        +0.j,\n",
       "         0.        +0.j,  0.        +0.j,  0.        +0.j,\n",
       "         0.99076743+0.j,  0.        +0.j,  0.        +0.j,\n",
       "         0.        +0.j,  0.        +0.j,  0.        +0.j,\n",
       "         0.        +0.j,  0.        +0.j,  0.        +0.j,\n",
       "         0.        +0.j,  0.        +0.j,  0.        +0.j,\n",
       "         0.        +0.j,  0.        +0.j,  0.        +0.j,\n",
       "         0.        +0.j], requires_grad=True)"
      ]
     },
     "execution_count": 58,
     "metadata": {},
     "output_type": "execute_result"
    }
   ],
   "source": [
    "ground_state(theta)"
   ]
  },
  {
   "cell_type": "code",
   "execution_count": null,
   "id": "6d7bafd8-df42-46b2-a270-91c07eec166e",
   "metadata": {},
   "outputs": [],
   "source": []
  }
 ],
 "metadata": {
  "kernelspec": {
   "display_name": "Python 3 (ipykernel)",
   "language": "python",
   "name": "python3"
  },
  "language_info": {
   "codemirror_mode": {
    "name": "ipython",
    "version": 3
   },
   "file_extension": ".py",
   "mimetype": "text/x-python",
   "name": "python",
   "nbconvert_exporter": "python",
   "pygments_lexer": "ipython3",
   "version": "3.11.9"
  }
 },
 "nbformat": 4,
 "nbformat_minor": 5
}
